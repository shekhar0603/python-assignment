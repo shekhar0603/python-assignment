{
 "cells": [
  {
   "cell_type": "code",
   "execution_count": 9,
   "id": "0030adbb-c624-4b15-8273-0a1613d97197",
   "metadata": {},
   "outputs": [],
   "source": [
    "##TOPIC: Python Basics Variable"
   ]
  },
  {
   "cell_type": "markdown",
   "id": "c32c9b25-5207-4a61-a239-6d87551b8142",
   "metadata": {},
   "source": [
    "1. Declare two variables, `x` and `y`, and assign them integer values. Swap the\n",
    "values of these variables without using any temporary variable."
   ]
  },
  {
   "cell_type": "code",
   "execution_count": 10,
   "id": "af8c265d-007e-4350-8abd-657d9c02677b",
   "metadata": {},
   "outputs": [
    {
     "name": "stdout",
     "output_type": "stream",
     "text": [
      "After swapping:\n",
      "x = 20\n",
      "y = 10\n"
     ]
    }
   ],
   "source": [
    "x =10\n",
    "y = 20\n",
    "\n",
    "x, y = y, x\n",
    "\n",
    "print(\"After swapping:\")\n",
    "print(\"x =\", x)\n",
    "print(\"y =\", y)"
   ]
  },
  {
   "cell_type": "markdown",
   "id": "9c0e9e8b-2d94-4fc0-a9ac-dea3ea676c65",
   "metadata": {},
   "source": [
    "2. Create a program that calculates the area of a rectangle. Take the length and\n",
    "width as inputs from the user and store them in variables. Calculate and\n",
    "display the area."
   ]
  },
  {
   "cell_type": "code",
   "execution_count": 12,
   "id": "b85ceeb2-f756-4b9b-838b-6a09305b10be",
   "metadata": {},
   "outputs": [
    {
     "name": "stdin",
     "output_type": "stream",
     "text": [
      "Enter the length as integer 5.7\n",
      "Enter the width as integer 5.6\n"
     ]
    },
    {
     "name": "stdout",
     "output_type": "stream",
     "text": [
      "31.919999999999998\n"
     ]
    }
   ],
   "source": [
    "length = float(input(\"Enter the length as integer\"))\n",
    "width = float(input(\"Enter the width as integer\"))\n",
    "area = length * width\n",
    "print(area)"
   ]
  },
  {
   "cell_type": "markdown",
   "id": "468af460-fffe-4ede-8ff0-8a6da9a238e3",
   "metadata": {},
   "source": [
    "3. Write a Python program that converts temperatures from Celsius to\n",
    "Fahrenheit. Take the temperature in Celsius as input, store it in a variable,\n",
    "convert it to Fahrenheit, and display the result."
   ]
  },
  {
   "cell_type": "code",
   "execution_count": 14,
   "id": "63da9a7e-552f-4a8b-b92d-99aab386ef22",
   "metadata": {},
   "outputs": [
    {
     "name": "stdin",
     "output_type": "stream",
     "text": [
      "Enter temperature in Celcius 37\n"
     ]
    },
    {
     "name": "stdout",
     "output_type": "stream",
     "text": [
      "98.6\n"
     ]
    }
   ],
   "source": [
    "tempCelc = float(input(\"Enter temperature in Celcius\"))\n",
    "tempFah = (tempCelc * 9/5) + 32\n",
    "print(tempFah)"
   ]
  },
  {
   "cell_type": "code",
   "execution_count": 15,
   "id": "afed49fe-ab60-402c-9079-2e93cd015ebf",
   "metadata": {},
   "outputs": [],
   "source": [
    "##TOPIC: String Based Questions"
   ]
  },
  {
   "cell_type": "markdown",
   "id": "0e7ac57e-45dc-46fa-bddf-5b029c3d85ef",
   "metadata": {},
   "source": [
    "1. Write a Python program that takes a string as input and prints the length of\n",
    "the string."
   ]
  },
  {
   "cell_type": "code",
   "execution_count": 17,
   "id": "d3985b6d-b066-4111-8922-a9b47d94f752",
   "metadata": {},
   "outputs": [
    {
     "name": "stdin",
     "output_type": "stream",
     "text": [
      "Please enter string:  This is a test string\n"
     ]
    },
    {
     "name": "stdout",
     "output_type": "stream",
     "text": [
      "21\n"
     ]
    }
   ],
   "source": [
    "InputStr = input(\"Please enter string: \")\n",
    "print(len(InputStr))"
   ]
  },
  {
   "cell_type": "markdown",
   "id": "bdfa46e3-6acd-472e-8f25-16d54a996fa0",
   "metadata": {},
   "source": [
    "2. Create a program that takes a sentence from the user and counts the number\n",
    "of vowels (a, e, i, o, u) in the string."
   ]
  },
  {
   "cell_type": "code",
   "execution_count": 23,
   "id": "db18032c-f674-4b43-a16e-95334944cf5e",
   "metadata": {},
   "outputs": [
    {
     "name": "stdin",
     "output_type": "stream",
     "text": [
      "Enter a sentence:  An apple a day keeps A dOctor away.\n"
     ]
    },
    {
     "data": {
      "text/plain": [
       "12"
      ]
     },
     "execution_count": 23,
     "metadata": {},
     "output_type": "execute_result"
    }
   ],
   "source": [
    "def countvowels(sentence):\n",
    "    count = 0\n",
    "    for i in sentence.lower():\n",
    "        if i in ['a','e','i','o','u']:\n",
    "            count = count + 1\n",
    "    return count\n",
    "\n",
    "countvowels(input(\"Enter a sentence: \"))\n",
    "            "
   ]
  },
  {
   "cell_type": "markdown",
   "id": "b06c048c-a7eb-4b73-b168-790b313f27c5",
   "metadata": {},
   "source": [
    "3. Given a string, reverse the order of characters using string slicing and print\n",
    "the reversed string.\n"
   ]
  },
  {
   "cell_type": "code",
   "execution_count": 24,
   "id": "f428f67d-9fcb-4cd9-8efc-17fae2d99c60",
   "metadata": {},
   "outputs": [
    {
     "name": "stdin",
     "output_type": "stream",
     "text": [
      "Enter a string:  This is a test string\n"
     ]
    },
    {
     "name": "stdout",
     "output_type": "stream",
     "text": [
      "gnirts tset a si sihT\n"
     ]
    }
   ],
   "source": [
    "str1 = str(input(\"Enter a string: \"))\n",
    "print(str1[::-1])"
   ]
  },
  {
   "cell_type": "markdown",
   "id": "f1e2593a-689c-4a52-a16f-a89c61b1bc4d",
   "metadata": {},
   "source": [
    "4. Write a program that takes a string as input and checks if it is a palindrome\n",
    "(reads the same forwards and backwards)."
   ]
  },
  {
   "cell_type": "code",
   "execution_count": null,
   "id": "fb62a0fa-75f8-402a-8f77-ae2c7e7af60d",
   "metadata": {},
   "outputs": [
    {
     "name": "stdin",
     "output_type": "stream",
     "text": [
      "Enter a string:  Karmaamrak\n"
     ]
    },
    {
     "name": "stdout",
     "output_type": "stream",
     "text": [
      "'Karmaamrak' is a palindrome.\n"
     ]
    }
   ],
   "source": [
    "input_string = input(\"Enter a string: \")\n",
    "\n",
    "# Remove spaces and convert the string to lowercase for case-insensitive comparison\n",
    "cleaned_string = input_string.replace(\" \", \"\").lower()\n",
    "\n",
    "# Reverse the string using string slicing\n",
    "reversed_string = cleaned_string[::-1]\n",
    "\n",
    "# Check if the original string is equal to its reverse\n",
    "if cleaned_string == reversed_string:\n",
    "    print(f\"'{input_string}' is a palindrome.\")\n",
    "else:\n",
    "    print(f\"'{input_string}' is not a palindrome.\")\n"
   ]
  },
  {
   "cell_type": "markdown",
   "id": "925e25f3-9fd0-4f2e-8587-10565861353b",
   "metadata": {},
   "source": [
    "5. Create a program that takes a string as input and removes all the spaces from\n",
    "it. Print the modified string without spaces."
   ]
  },
  {
   "cell_type": "code",
   "execution_count": 29,
   "id": "4c0b6424-7d37-4ccf-9796-00b0f773b638",
   "metadata": {},
   "outputs": [
    {
     "name": "stdin",
     "output_type": "stream",
     "text": [
      "Enter a string:      this is a .   strig\n"
     ]
    },
    {
     "data": {
      "text/plain": [
       "'thisisa.strig'"
      ]
     },
     "execution_count": 29,
     "metadata": {},
     "output_type": "execute_result"
    }
   ],
   "source": [
    "def removeSpaces(string):\n",
    "    modified_string = string.replace(\" \", \"\")\n",
    "    return modified_string\n",
    "\n",
    "\n",
    "removeSpaces(input(\"Enter a string: \"))"
   ]
  },
  {
   "cell_type": "code",
   "execution_count": null,
   "id": "8a2cc6ef-6f20-4201-9a3d-db792498212d",
   "metadata": {},
   "outputs": [],
   "source": [
    "#END"
   ]
  }
 ],
 "metadata": {
  "kernelspec": {
   "display_name": "Python 3 (ipykernel)",
   "language": "python",
   "name": "python3"
  },
  "language_info": {
   "codemirror_mode": {
    "name": "ipython",
    "version": 3
   },
   "file_extension": ".py",
   "mimetype": "text/x-python",
   "name": "python",
   "nbconvert_exporter": "python",
   "pygments_lexer": "ipython3",
   "version": "3.10.8"
  }
 },
 "nbformat": 4,
 "nbformat_minor": 5
}
